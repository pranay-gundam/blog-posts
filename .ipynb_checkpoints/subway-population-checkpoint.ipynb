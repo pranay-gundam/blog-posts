{
 "cells": [
  {
   "cell_type": "markdown",
   "metadata": {},
   "source": [
    "# Thoughts about the subway"
   ]
  },
  {
   "cell_type": "markdown",
   "metadata": {},
   "source": [
    "## Motivation\n",
    "\n",
    "I really like people watching when I am on public transit. I know the word to describe the realization that the people around you have as vivid lives as yours is called sonder (just because I've looked it up so often) but its interesting to try to work out what you think a person's life may be like just based on the short amount of time that you will have been in the same vicinity as them. This is a very roundabout spiel that explains a little bit about the question that I have now. In my watching of people and being on a lot of public transit I've observed some trends in the way that subway cars are populated. \n",
    "\n",
    "At first I was deadset on the idea that they were discretely normally distributed, in that the most populated subway car was the one in the center and the density of each subway car would decrease the further away it was from the middle car. Later, however, I became aware of some nuance in this distribution, how time of day or stop at which the subway was affected the variance and realized shape of the distribution. \n",
    "\n",
    "In general, I find the question pretty interesting as I find myself often moving towards the extremes of the subway train in hopes of being able to more easily find a seat and wanted to build some sort of generalized game-theory behaviour model that would give some insight about the decision making process of an individual when faced with the choice of which subway car to try to enter. Because clearly if there was no cost or necessary \"mental capital\" associated with thinking to move and to then physically move to subway cars that are likely to be less dense then all subway trains would be uniformly distributed.\n",
    "\n",
    "In a more academia focussed aspect, however, I find myself to be quite interested in urban and spatial economics and the question of trying to optimize the organization is what tends to ocupy my mind during my time spend on public transit. There could be an argument made that in an ideal world we would place subway stop entrances strategically based on where the density is least in order to minimize costs for an individual and make the density of a subway train evenly distributed."
   ]
  },
  {
   "cell_type": "markdown",
   "metadata": {},
   "source": [
    "## Initial Notes\n",
    "\n",
    "There is of course no all encompassing model but I do want to try to get pretty close to including factors that would be involved. For example, although an informed individual may have a decent guess as to how crowded a particular subway train will be in general depending on the time of day and location of the subway stop, there is always a degree of undertainty that we should bake into the model.\n",
    "\n",
    "Although I've found a couple of data sources that look somewhat promising, just to make sure that this project doesn't take an unreasonable amount of time I'll leave a lot of stuff to be very generic and maybe work with some simulated data that I cook up."
   ]
  },
  {
   "cell_type": "markdown",
   "metadata": {},
   "source": [
    "## Building the Model\n",
    "\n",
    "### Utility Function\n",
    "\n",
    "Although people are into all sorts of weird stuff, we will stick to concepts that I personally think most individuals value:\n",
    " * I think on average, most people would rather sit down on the subway than stand up. \n",
    " * The above preferences increases the longer the commute an individual has.\n",
    " * People dislike having to be in a dense subway car.\n",
    "\n",
    "The shape of the utility curves is something that can get very complicated. Based on my setup and assumptions above, the curve should be inversely proportional to the density of a subway car and the duration of a subway car. But I think the first bullet point speaks to a jump in the utility in terms of the density at which all the seats on a subway car are taken up. This requires a bit more information about the make of subway cars so I'll leave that to later if I happen to have enough time to think about it.\n",
    "\n",
    "I am also going to assume that the density of a subway car is related to the hour in which the ride takes place (where the peak times are around work start and end times, 9am and 5pm), the stop in which your subway trip begins (where the density is lower the closer to the the ends of the route the subway stops at). Finally, my initial assumption was that population density is approximatly normally distributed with regards to the following variables:\n",
    " * $x \\in [-5,5]\\cap \\mathbb{Z}$: the subway car that you choose where 0 is the middle subway car.\n",
    " * $t \\in \\mathbb{R}^+$: the length of your subway trip.\n",
    " * $h \\in [0,24)$: the hour of the day that your trip takes place.\n",
    " * $s \\in [0,66]\\cap \\mathbb{Z}$: the stop at which your subway trip begins.\n",
    " \n",
    "And with all this in mind, let's write the utility function as $$u(\\rho, t) = -c|x| + ae^{-\\frac{\\rho}{b_1}\\frac{t}{b_2}},$$ where an individual's maximization problem is $$\\max_{x}\\mathbb{E}\\left[u(\\rho, t)|x,h,s\\right].$$\n",
    "\n",
    "\n",
    "With all this in mind, we can then continue to write\n",
    "$$\\begin{align}\\max_{x}\\mathbb{E}\\left[u(\\rho, t)|\\,x,h,s\\right] = \\max_{x}\\mathbb{E}\\left[-c|x| + ae^{-\\frac{\\rho}{b_1}\\frac{t}{b_2}}\\big| \\,x,h,s\\right] \\end{align}$$ $$= \\max_{x}-c|x| + \\mathbb{E}\\left[ae^{-\\frac{\\rho}{b_1}\\frac{t}{b_2}}\\big| \\,x,h,s\\right] $$"
   ]
  },
  {
   "cell_type": "markdown",
   "metadata": {},
   "source": [
    "## Optimizing Individual Utility\n",
    "\n"
   ]
  },
  {
   "cell_type": "markdown",
   "metadata": {},
   "source": []
  },
  {
   "cell_type": "markdown",
   "metadata": {},
   "source": [
    "## Visualizing the Problem\n",
    "\n",
    "So far we have a decent idea of what "
   ]
  },
  {
   "cell_type": "markdown",
   "metadata": {},
   "source": [
    "## Reflections\n",
    "\n",
    "At work, I keep whatever blog post idea that I'm working on at the time on my whiteboard and people notice it from time to time and talk to me about it. I've gotten a lot of really interesting feedback and insights about this specific problem. The main gist of it is that the distributions of density in a station may not be a very simple normal distribution but rather have multiple modes around where the staircases are placed in a given station. Other suggestions included to think about other motivations for people entering the specific subway car that they enter in such as planning for their future exit or people tending to actually have a preference for dense subway cars at nighttimes because they want to feel safer.\n",
    "\n",
    "So far I can think of a couple of ways to bake these assumptions into the model (such as making the utility function also conditional on time of day or making some unique way to classify the number of station on the line of stations in such a way that we can codifiy the conditional expectation of $\\rho$ properly). "
   ]
  }
 ],
 "metadata": {
  "kernelspec": {
   "display_name": "Python 3",
   "language": "python",
   "name": "python3"
  },
  "language_info": {
   "codemirror_mode": {
    "name": "ipython",
    "version": 3
   },
   "file_extension": ".py",
   "mimetype": "text/x-python",
   "name": "python",
   "nbconvert_exporter": "python",
   "pygments_lexer": "ipython3",
   "version": "3.8.5"
  }
 },
 "nbformat": 4,
 "nbformat_minor": 4
}
