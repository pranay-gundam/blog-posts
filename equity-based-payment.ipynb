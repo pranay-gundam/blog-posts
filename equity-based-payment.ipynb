{
 "cells": [
  {
   "cell_type": "markdown",
   "metadata": {},
   "source": [
    "# Companies paying employees in equity\n",
    "\n",
    "A lot of the high earning friends/acquaintances/people I know live in NYC. For the majority, their base salaries are pretty high, but they also get payed in equity or some other version of a financial instrument related to the company's performance."
   ]
  },
  {
   "cell_type": "markdown",
   "metadata": {},
   "source": [
    "Question: I'm curious about the incentive structures of managers and employees at a hypothetical company where everyone is payed in equity"
   ]
  }
 ],
 "metadata": {
  "kernelspec": {
   "display_name": "Python 3",
   "language": "python",
   "name": "python3"
  },
  "language_info": {
   "codemirror_mode": {
    "name": "ipython",
    "version": 3
   },
   "file_extension": ".py",
   "mimetype": "text/x-python",
   "name": "python",
   "nbconvert_exporter": "python",
   "pygments_lexer": "ipython3",
   "version": "3.8.5"
  }
 },
 "nbformat": 4,
 "nbformat_minor": 4
}
