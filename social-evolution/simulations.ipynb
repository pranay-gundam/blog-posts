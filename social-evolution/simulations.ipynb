{
 "cells": [
  {
   "cell_type": "markdown",
   "id": "ac2e9936",
   "metadata": {},
   "source": [
    "# Social Evolution Simulations"
   ]
  },
  {
   "cell_type": "code",
   "execution_count": null,
   "id": "21e8d7a2",
   "metadata": {},
   "outputs": [],
   "source": [
    "import matplotlib.pyplot as plt\n",
    "import numpy as np"
   ]
  },
  {
   "cell_type": "markdown",
   "id": "7ead84d6",
   "metadata": {},
   "source": [
    "## Barebones Model\n",
    "\n",
    "This model is a society of 10K people"
   ]
  },
  {
   "cell_type": "code",
   "execution_count": null,
   "id": "a3d74883",
   "metadata": {},
   "outputs": [],
   "source": [
    "# Population of the society\n",
    "n = 10000\n",
    "\n",
    "# Time Horizon\n",
    "T = 100\n",
    "\n",
    "# Wealth distribution\n",
    "wealth = np.zeros((T,n))\n",
    "\n",
    "# Socioeconomic satisfaction\n",
    "satisfaction = np.zeros((T,n))"
   ]
  },
  {
   "cell_type": "code",
   "execution_count": null,
   "id": "019f179c",
   "metadata": {},
   "outputs": [],
   "source": []
  }
 ],
 "metadata": {
  "kernelspec": {
   "display_name": "Python 3",
   "language": "python",
   "name": "python3"
  },
  "language_info": {
   "name": "python",
   "version": "3.10.12"
  }
 },
 "nbformat": 4,
 "nbformat_minor": 5
}
