{
 "cells": [
  {
   "cell_type": "markdown",
   "metadata": {},
   "source": [
    "# Station Commuting\n",
    "\n",
    "## Motivation\n",
    "At work, I keep whatever blog post idea that I'm working on at the time on my whiteboard and people notice it from time to time and talk to me about it. In one such conversation with a friend, they mentioned that they often times kept track of the time it took for them to get from their apartment to the subway station in the morning for work and then also how long they had to wait as well. This got me thinking also about another subway related problem that may have a fewer moving parts than my other post (regarding the population density in subways). \n",
    "\n",
    "Specifically, making a model to express when we should leave from our apartment when walking to the subway station. The mechanics of this model is a lot less involved than was the other blog post but I wanted to play around with different shapes of utility functions and thought that this would be a good medium to do so."
   ]
  },
  {
   "cell_type": "code",
   "execution_count": null,
   "metadata": {},
   "outputs": [],
   "source": []
  }
 ],
 "metadata": {
  "kernelspec": {
   "display_name": "Python 3",
   "language": "python",
   "name": "python3"
  },
  "language_info": {
   "codemirror_mode": {
    "name": "ipython",
    "version": 3
   },
   "file_extension": ".py",
   "mimetype": "text/x-python",
   "name": "python",
   "nbconvert_exporter": "python",
   "pygments_lexer": "ipython3",
   "version": "3.8.5"
  }
 },
 "nbformat": 4,
 "nbformat_minor": 4
}
